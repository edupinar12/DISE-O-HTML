{
  "nbformat": 4,
  "nbformat_minor": 0,
  "metadata": {
    "colab": {
      "provenance": [],
      "include_colab_link": true
    },
    "kernelspec": {
      "name": "python3",
      "display_name": "Python 3"
    },
    "language_info": {
      "name": "python"
    }
  },
  "cells": [
    {
      "cell_type": "markdown",
      "metadata": {
        "id": "view-in-github",
        "colab_type": "text"
      },
      "source": [
        "<a href=\"https://colab.research.google.com/github/edupinar12/DISE-O-HTML/blob/master/Untitled6.ipynb\" target=\"_parent\"><img src=\"https://colab.research.google.com/assets/colab-badge.svg\" alt=\"Open In Colab\"/></a>"
      ]
    },
    {
      "cell_type": "code",
      "execution_count": 4,
      "metadata": {
        "id": "Fz_vUVWz2XpT",
        "colab": {
          "base_uri": "https://localhost:8080/"
        },
        "outputId": "96e91913-59c9-43ea-c6da-41c8d8358131"
      },
      "outputs": [
        {
          "output_type": "stream",
          "name": "stdout",
          "text": [
            "ingrese la primera nota 20\n",
            "\n",
            "La nota ingresada es: 20\n"
          ]
        }
      ],
      "source": [
        "#realziaremos la resolución del problema Nro 1\n",
        "Nota1=input(\"ingrese la primera nota \")\n",
        "print()\n",
        "print(f\"La nota ingresada es: {Nota1}\")"
      ]
    }
  ]
}